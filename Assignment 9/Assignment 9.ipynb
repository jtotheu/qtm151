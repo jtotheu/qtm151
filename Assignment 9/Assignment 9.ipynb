{
 "cells": [
  {
   "attachments": {},
   "cell_type": "markdown",
   "metadata": {},
   "source": [
    "# Assignment 9"
   ]
  },
  {
   "attachments": {},
   "cell_type": "markdown",
   "metadata": {},
   "source": [
    "## Try to submit as an HTML file"
   ]
  },
  {
   "attachments": {},
   "cell_type": "markdown",
   "metadata": {},
   "source": [
    "<font size = \"5\">\n",
    "Print your name below"
   ]
  },
  {
   "cell_type": "code",
   "execution_count": 1,
   "metadata": {},
   "outputs": [
    {
     "name": "stdout",
     "output_type": "stream",
     "text": [
      "Jaeyu Hwang\n"
     ]
    }
   ],
   "source": [
    "print(\"Jaeyu Hwang\")"
   ]
  },
  {
   "attachments": {},
   "cell_type": "markdown",
   "metadata": {},
   "source": [
    "<font size = \"5\">\n",
    "\n",
    "Import the \"pandas\", \"sqlalchemy\" and \"URL\" libraries <br>\n",
    "(See Lecture 20)"
   ]
  },
  {
   "cell_type": "code",
   "execution_count": 2,
   "metadata": {},
   "outputs": [],
   "source": [
    "# Write your answer here:\n",
    "import pandas as pd\n",
    "import psycopg2\n",
    "import sqlalchemy as sa\n",
    "from   sqlalchemy.engine import URL\n",
    "from   sqlalchemy import text\n"
   ]
  },
  {
   "attachments": {},
   "cell_type": "markdown",
   "metadata": {},
   "source": [
    "<font size = \"5\">\n",
    "\n",
    "Establish a connection to the SQL server <br>\n",
    "from Python as in Lecture 20 using <br>\n",
    "```URL()``` and ```create_engine()```"
   ]
  },
  {
   "cell_type": "code",
   "execution_count": 3,
   "metadata": {},
   "outputs": [],
   "source": [
    "# Write your own code\n",
    "\n",
    "url_server = URL.create(\n",
    "    \"postgresql\",\n",
    "    host = 'localhost',\n",
    "    database = 'postgres',\n",
    "    username = 'postgres',\n",
    "    port = 5432,\n",
    "    password  = '12345')\n",
    "\n",
    "con = sa.create_engine(url_server).connect()\n"
   ]
  },
  {
   "attachments": {},
   "cell_type": "markdown",
   "metadata": {},
   "source": [
    "<font size = \"5\">\n",
    "\n",
    "In this homework, you will repeat the exercises in <br>\n",
    "Assignment 8, this time accessing SQL indirectly <br>\n",
    "from Python\n",
    "\n",
    "<font size = \"3\">\n",
    "\n",
    "- For (a)-(e) read the section <br>\n",
    "on \"Escape Characters\" carefully and how to write <br>\n",
    "strings in multiple lines\n",
    "- Remember that there is a special syntax for <br>\n",
    "column names that have capital letters"
   ]
  },
  {
   "attachments": {},
   "cell_type": "markdown",
   "metadata": {},
   "source": [
    "\n",
    "<font size = \"5\">\n",
    "\n",
    "(a) Import \"lap_times.csv\" and \"drivers.csv\"  \n",
    "\n",
    "<font size = \"3\">\n",
    "\n",
    "- Import the data using ```pd.read_csv()```\n",
    "- Upload to the server using  ```.to_sql()```"
   ]
  },
  {
   "cell_type": "code",
   "execution_count": 4,
   "metadata": {},
   "outputs": [
    {
     "data": {
      "text/plain": [
       "857"
      ]
     },
     "execution_count": 4,
     "metadata": {},
     "output_type": "execute_result"
    }
   ],
   "source": [
    "# Write your own code\n",
    "\n",
    "lap_times  = pd.read_csv(\"data_raw/lap_times.csv\")\n",
    "drivers    = pd.read_csv(\"data_raw/drivers.csv\")\n",
    "\n",
    "lap_times.to_sql('lap_times_sql',con, if_exists='replace')\n",
    "drivers.to_sql('drivers_sql',con, if_exists='replace')"
   ]
  },
  {
   "attachments": {},
   "cell_type": "markdown",
   "metadata": {},
   "source": [
    "<font size = \"5\">\n",
    "\n",
    "(b) Subset and sort\n",
    "\n",
    "<font size = \"3\">\n",
    "\n",
    "- In this exercise use the function ```.read_sql()```\n",
    "- Use ```WHERE``` to get a subset of \"drivers\" with \n",
    "```nationality = 'American'```\n",
    "- Chain this with ```ORDER BY surname ASC``` to sort in <br>\n",
    "ascending order\n",
    "\n",
    "HINT: Use single quotes inside a string as in Lecture 20"
   ]
  },
  {
   "cell_type": "code",
   "execution_count": 10,
   "metadata": {},
   "outputs": [],
   "source": [
    "# Write your own code\n",
    "\n",
    "b = pd.read_sql(text(\"SELECT * \\\n",
    "                             FROM drivers_sql \\\n",
    "                             WHERE nationality = 'American' \\\n",
    "                             ORDER BY surname ASC;\"),con)\n"
   ]
  },
  {
   "attachments": {},
   "cell_type": "markdown",
   "metadata": {},
   "source": [
    "<font size = \"5\">\n",
    "\n",
    "(c) Count unique values\n",
    "\n",
    "<font size = \"3\">\n",
    "\n",
    "- In this exercise use the function ```.read_sql()```\n",
    "- Count the number of unique \"driverId\" using ```COUNT(DISTINCT ...)``` <br>\n",
    "from the dataset \"drivers\"\n",
    "\n",
    "HINT: Include \\\\\"driverId\\\\\" in double quotations with an <br>\n",
    "escape character (see Lecture 20 for details) since <br>\n",
    "it has a mix of upper and lower case letters"
   ]
  },
  {
   "cell_type": "code",
   "execution_count": 6,
   "metadata": {},
   "outputs": [],
   "source": [
    "# Write your own code\n",
    "c = pd.read_sql(text(\"SELECT COUNT(DISTINCT \\\"driverId\\\") \\\n",
    "                             FROM drivers_sql;\"),con)"
   ]
  },
  {
   "attachments": {},
   "cell_type": "markdown",
   "metadata": {},
   "source": [
    "<font size = \"5\">\n",
    "\n",
    "(d) Groupby + Aggregate + Sort\n",
    "\n",
    "<font size = \"3\">\n",
    "\n",
    "- In this exercise use the function ```.read_sql()```\n",
    "- Obtain the average of \"milliseconds\" by \"driverId\" using ```GROUP BY```\n",
    "- User ```ORDER BY ``` to sort on the average of milliseconds\n",
    "\n",
    "HINT: Include \\\\\"driverId\\\\\" in double quotations with an <br>\n",
    "escape character (see Lecture 20 for details) since <br>\n",
    "it has a mix of upper and lower case letters"
   ]
  },
  {
   "cell_type": "code",
   "execution_count": 11,
   "metadata": {},
   "outputs": [],
   "source": [
    "# Write your own code\n",
    "d = pd.read_sql(text(\"SELECT AVG(milliseconds) as mean_milli \\\n",
    "                             FROM lap_times_sql \\\n",
    "                             GROUP BY \\\"driverId\\\" \\\n",
    "                             ORDER BY mean_milli;\"),con)\n"
   ]
  },
  {
   "attachments": {},
   "cell_type": "markdown",
   "metadata": {},
   "source": [
    "<font size = \"5\">\n",
    "\n",
    "(e) Merge two tables\n",
    "\n",
    "<font size = \"3\">\n",
    "\n",
    "- In this exercise use the function ```.read_sql()```\n",
    "- Merge the tables \"lap_times\" (primary) and \"drivers\" (secondary) <br>\n",
    "on \"driverId\" using ```LEFT JOIN``` on \"driverId\".\n",
    "\n",
    "HINT: Include \\\\\"driverId\\\\\" in double quotations with an <br>\n",
    "escape character (see Lecture 20 for details) since <br>\n",
    "it has a mix of upper and lower case letters"
   ]
  },
  {
   "cell_type": "code",
   "execution_count": 8,
   "metadata": {},
   "outputs": [],
   "source": [
    "# Write your own code\n",
    "e = pd.read_sql(text(\"SELECT * \\\n",
    "                             FROM lap_times_sql \\\n",
    "                             LEFT JOIN drivers_sql \\\n",
    "                             ON lap_times_sql.\\\"driverId\\\" = drivers_sql.\\\"driverId\\\" ;\"),con)\n",
    "\n"
   ]
  }
 ],
 "metadata": {
  "kernelspec": {
   "display_name": "Python 3",
   "language": "python",
   "name": "python3"
  },
  "language_info": {
   "codemirror_mode": {
    "name": "ipython",
    "version": 3
   },
   "file_extension": ".py",
   "mimetype": "text/x-python",
   "name": "python",
   "nbconvert_exporter": "python",
   "pygments_lexer": "ipython3",
   "version": "3.11.1 (v3.11.1:a7a450f84a, Dec  6 2022, 15:24:06) [Clang 13.0.0 (clang-1300.0.29.30)]"
  },
  "orig_nbformat": 4,
  "vscode": {
   "interpreter": {
    "hash": "aee8b7b246df8f9039afb4144a1f6fd8d2ca17a180786b69acc140d282b71a49"
   }
  }
 },
 "nbformat": 4,
 "nbformat_minor": 2
}
